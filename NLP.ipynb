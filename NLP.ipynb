{
  "nbformat": 4,
  "nbformat_minor": 0,
  "metadata": {
    "colab": {
      "provenance": [],
      "gpuType": "T4",
      "include_colab_link": true
    },
    "kernelspec": {
      "name": "python3",
      "display_name": "Python 3"
    },
    "language_info": {
      "name": "python"
    },
    "accelerator": "GPU"
  },
  "cells": [
    {
      "cell_type": "markdown",
      "metadata": {
        "id": "view-in-github",
        "colab_type": "text"
      },
      "source": [
        "<a href=\"https://colab.research.google.com/github/DhafinRizkyA/QWIKLABSGTLOH/blob/main/NLP.ipynb\" target=\"_parent\"><img src=\"https://colab.research.google.com/assets/colab-badge.svg\" alt=\"Open In Colab\"/></a>"
      ]
    },
    {
      "cell_type": "markdown",
      "source": [
        "#**Package**#\n"
      ],
      "metadata": {
        "id": "Ui12PL1WCuEB"
      }
    },
    {
      "cell_type": "code",
      "execution_count": null,
      "metadata": {
        "id": "05063f5X_pqc"
      },
      "outputs": [],
      "source": [
        "import io\n",
        "import csv\n",
        "import tensorflow as tf\n",
        "import numpy as np\n",
        "from tensorflow.keras.preprocessing.text import Tokenizer\n",
        "from tensorflow.keras.preprocessing.sequence import pad_sequences\n",
        "import matplotlib.pyplot as plt\n",
        "from nltk.corpus import stopwords"
      ]
    },
    {
      "cell_type": "markdown",
      "source": [
        "#**Data**#\n"
      ],
      "metadata": {
        "id": "fAD_QUcBDjM3"
      }
    },
    {
      "cell_type": "code",
      "source": [
        "lirik = 'Ada yang tak sempat tergambarkan oleh kata Ketika kita berdua \\n Hanya aku yang bisa bertanya \\n Mungkinkah kau tahu jawabnya? \\n Malam jadi saksinya \\n Kita berdua di antara kata \\n Yang tak terucap \\n Berharap waktu membawa keberanian \\n Untuk datang membawa jawaban \\n Mungkinkah kita ada kesempatan \\n Ucapkan janji takkan berpisah selamanya? \\n Malam jadi saksinya \\n Kita berdua di antara kata \\n Yang tak terucap \\n Berharap waktu membawa keberanian \\n Untuk datang membawa jawaban \\n Mungkinkah kita ada kesempatan \\n Ucapkan janji \\n Takkan berpisah selamanya?'\n",
        "corpus = lirik.lower().split(' \\n ')\n",
        "print(corpus)"
      ],
      "metadata": {
        "id": "6dFSRQ_5AAtU",
        "colab": {
          "base_uri": "https://localhost:8080/"
        },
        "outputId": "b83bbb9a-7269-4f99-aa4a-7baa40dd979b"
      },
      "execution_count": null,
      "outputs": [
        {
          "output_type": "stream",
          "name": "stdout",
          "text": [
            "['ada yang tak sempat tergambarkan oleh kata ketika kita berdua', 'hanya aku yang bisa bertanya', 'mungkinkah kau tahu jawabnya?', 'malam jadi saksinya', 'kita berdua di antara kata', 'yang tak terucap', 'berharap waktu membawa keberanian', 'untuk datang membawa jawaban', 'mungkinkah kita ada kesempatan', 'ucapkan janji takkan berpisah selamanya?', 'malam jadi saksinya', 'kita berdua di antara kata', 'yang tak terucap', 'berharap waktu membawa keberanian', 'untuk datang membawa jawaban', 'mungkinkah kita ada kesempatan', 'ucapkan janji', 'takkan berpisah selamanya?']\n"
          ]
        }
      ]
    },
    {
      "cell_type": "code",
      "source": [
        "#lirik = 'Ada yang tak sempat tergambarkan oleh kata Ketika kita berdua \\n Hanya aku yang bisa bertanya \\n Mungkinkah kau tahu jawabnya? \\n Malam jadi saksinya \\n Kita berdua di antara kata \\n Yang tak terucap \\n Berharap waktu membawa keberanian \\n Untuk datang membawa jawaban \\n Mungkinkah kita ada kesempatan \\n Ucapkan janji takkan berpisah selamanya? \\n Malam jadi saksinya \\n Kita berdua di antara kata \\n Yang tak terucap \\n Berharap waktu membawa keberanian \\n Untuk datang membawa jawaban \\n Mungkinkah kita ada kesempatan \\n Ucapkan janji \\n Takkan berpisah selamanya?'\n",
        "lirik2 = ''\n",
        "with open('/content/ghost2.csv','r') as lyrics:\n",
        "  lyric = csv.reader(lyrics,delimiter=',')\n",
        "\n",
        "  for line in lyric:\n",
        "    lirik2 =\n",
        "\n",
        "# joined_lirik = \" \".join(' '.join(l) for l in lirik)\n",
        "# print(joined_lirik)\n",
        "# for i in lirik2:\n",
        "#   for j in i:\n",
        "#     print(j.lower().split())"
      ],
      "metadata": {
        "colab": {
          "base_uri": "https://localhost:8080/",
          "height": 246
        },
        "id": "na7SO4C0I_ju",
        "outputId": "aa453f90-4657-451d-cc80-4c85b86803de"
      },
      "execution_count": null,
      "outputs": [
        {
          "output_type": "error",
          "ename": "TypeError",
          "evalue": "ignored",
          "traceback": [
            "\u001b[0;31m---------------------------------------------------------------------------\u001b[0m",
            "\u001b[0;31mTypeError\u001b[0m                                 Traceback (most recent call last)",
            "\u001b[0;32m<ipython-input-125-ae1e5d731306>\u001b[0m in \u001b[0;36m<cell line: 3>\u001b[0;34m()\u001b[0m\n\u001b[1;32m      5\u001b[0m \u001b[0;34m\u001b[0m\u001b[0m\n\u001b[1;32m      6\u001b[0m   \u001b[0;32mfor\u001b[0m \u001b[0mline\u001b[0m \u001b[0;32min\u001b[0m \u001b[0mlyric\u001b[0m\u001b[0;34m:\u001b[0m\u001b[0;34m\u001b[0m\u001b[0;34m\u001b[0m\u001b[0m\n\u001b[0;32m----> 7\u001b[0;31m     \u001b[0mlirik2\u001b[0m \u001b[0;34m+=\u001b[0m \u001b[0mline\u001b[0m\u001b[0;34m\u001b[0m\u001b[0;34m\u001b[0m\u001b[0m\n\u001b[0m\u001b[1;32m      8\u001b[0m \u001b[0;34m\u001b[0m\u001b[0m\n\u001b[1;32m      9\u001b[0m \u001b[0;31m# joined_lirik = \" \".join(' '.join(l) for l in lirik)\u001b[0m\u001b[0;34m\u001b[0m\u001b[0;34m\u001b[0m\u001b[0m\n",
            "\u001b[0;31mTypeError\u001b[0m: can only concatenate str (not \"list\") to str"
          ]
        }
      ]
    },
    {
      "cell_type": "markdown",
      "source": [
        "#**Instantiate Tokenizer**#\n"
      ],
      "metadata": {
        "id": "43rQTZRMDnmn"
      }
    },
    {
      "cell_type": "code",
      "source": [
        "tokenizer = Tokenizer()"
      ],
      "metadata": {
        "id": "wbxxsz93AOwi"
      },
      "execution_count": null,
      "outputs": []
    },
    {
      "cell_type": "code",
      "source": [
        "tokenizer.fit_on_texts(corpus)\n",
        "total_words = len(tokenizer.word_index) + 1"
      ],
      "metadata": {
        "id": "GIMcm0pkIuL8"
      },
      "execution_count": null,
      "outputs": []
    },
    {
      "cell_type": "code",
      "source": [
        "input_sequences = []\n",
        "for line in corpus:\n",
        "  token_list = tokenizer.texts_to_sequences([line])[0]\n",
        "  print(token_list)\n",
        "  for i in range(1,len(token_list)):\n",
        "    n_gram_sequence = token_list[:i+1]\n",
        "    input_sequences.append(n_gram_sequence)"
      ],
      "metadata": {
        "colab": {
          "base_uri": "https://localhost:8080/"
        },
        "id": "_Hx2hPCiKVZr",
        "outputId": "64ab7ee7-e950-4a53-871c-f89cfc8d2eb0"
      },
      "execution_count": null,
      "outputs": [
        {
          "output_type": "stream",
          "name": "stdout",
          "text": [
            "[4, 2, 5, 27, 28, 29, 6, 30, 1, 7]\n",
            "[31, 32, 2, 33, 34]\n",
            "[8, 35, 36, 37]\n",
            "[9, 10, 11]\n",
            "[1, 7, 12, 13, 6]\n",
            "[2, 5, 14]\n",
            "[15, 16, 3, 17]\n",
            "[18, 19, 3, 20]\n",
            "[8, 1, 4, 21]\n",
            "[22, 23, 24, 25, 26]\n",
            "[9, 10, 11]\n",
            "[1, 7, 12, 13, 6]\n",
            "[2, 5, 14]\n",
            "[15, 16, 3, 17]\n",
            "[18, 19, 3, 20]\n",
            "[8, 1, 4, 21]\n",
            "[22, 23]\n",
            "[24, 25, 26]\n"
          ]
        }
      ]
    },
    {
      "cell_type": "code",
      "source": [
        "max_sequence_len = max([len(line) for line in input_sequences])\n",
        "\n",
        "input_sequences = np.array(pad_sequences(input_sequences,maxlen=max_sequence_len))"
      ],
      "metadata": {
        "id": "VgmjaPPINdSU"
      },
      "execution_count": null,
      "outputs": []
    },
    {
      "cell_type": "code",
      "source": [
        "xs = input_sequences[:,:-1]\n",
        "labels = input_sequences[:,-1]\n",
        "\n",
        "from tensorflow.keras.utils import to_categorical\n",
        "ys = to_categorical(labels,num_classes=total_words)"
      ],
      "metadata": {
        "id": "vBaTNeJ7N4Vh"
      },
      "execution_count": null,
      "outputs": []
    },
    {
      "cell_type": "code",
      "source": [
        "from tensorflow.keras.layers import Dense,Embedding,LSTM,Bidirectional\n",
        "from tensorflow.keras.models import Sequential\n",
        "\n",
        "model = Sequential([\n",
        "    Embedding(total_words,64,input_length=max_sequence_len -1),\n",
        "    Bidirectional(LSTM(20)),\n",
        "    Dense(total_words,activation='softmax')\n",
        "])"
      ],
      "metadata": {
        "id": "yVhkjtS2O9U2"
      },
      "execution_count": null,
      "outputs": []
    },
    {
      "cell_type": "code",
      "source": [
        "model.compile(loss='categorical_crossentropy',optimizer='adam',metrics=['accuracy'])\n",
        "model.fit(xs,ys,epochs=150,verbose=1)"
      ],
      "metadata": {
        "colab": {
          "base_uri": "https://localhost:8080/"
        },
        "id": "0zhqV1ySP415",
        "outputId": "25ee61ef-2345-4e75-d8c2-df71a7698eb9"
      },
      "execution_count": null,
      "outputs": [
        {
          "output_type": "stream",
          "name": "stdout",
          "text": [
            "Epoch 1/150\n",
            "2/2 [==============================] - 3s 93ms/step - loss: 3.6376 - accuracy: 0.0175\n",
            "Epoch 2/150\n",
            "2/2 [==============================] - 0s 91ms/step - loss: 3.6309 - accuracy: 0.0526\n",
            "Epoch 3/150\n",
            "2/2 [==============================] - 0s 10ms/step - loss: 3.6254 - accuracy: 0.0702\n",
            "Epoch 4/150\n",
            "2/2 [==============================] - 0s 91ms/step - loss: 3.6194 - accuracy: 0.0877\n",
            "Epoch 5/150\n",
            "2/2 [==============================] - 0s 89ms/step - loss: 3.6137 - accuracy: 0.0877\n",
            "Epoch 6/150\n",
            "2/2 [==============================] - 0s 10ms/step - loss: 3.6079 - accuracy: 0.0877\n",
            "Epoch 7/150\n",
            "2/2 [==============================] - 0s 10ms/step - loss: 3.6010 - accuracy: 0.0877\n",
            "Epoch 8/150\n",
            "2/2 [==============================] - 0s 10ms/step - loss: 3.5945 - accuracy: 0.0877\n",
            "Epoch 9/150\n",
            "2/2 [==============================] - 0s 10ms/step - loss: 3.5873 - accuracy: 0.0877\n",
            "Epoch 10/150\n",
            "2/2 [==============================] - 0s 92ms/step - loss: 3.5792 - accuracy: 0.0877\n",
            "Epoch 11/150\n",
            "2/2 [==============================] - 0s 11ms/step - loss: 3.5710 - accuracy: 0.0877\n",
            "Epoch 12/150\n",
            "2/2 [==============================] - 0s 14ms/step - loss: 3.5632 - accuracy: 0.0877\n",
            "Epoch 13/150\n",
            "2/2 [==============================] - 0s 10ms/step - loss: 3.5524 - accuracy: 0.0877\n",
            "Epoch 14/150\n",
            "2/2 [==============================] - 0s 12ms/step - loss: 3.5415 - accuracy: 0.0877\n",
            "Epoch 15/150\n",
            "2/2 [==============================] - 0s 10ms/step - loss: 3.5299 - accuracy: 0.0877\n",
            "Epoch 16/150\n",
            "2/2 [==============================] - 0s 10ms/step - loss: 3.5180 - accuracy: 0.0877\n",
            "Epoch 17/150\n",
            "2/2 [==============================] - 0s 10ms/step - loss: 3.5035 - accuracy: 0.0877\n",
            "Epoch 18/150\n",
            "2/2 [==============================] - 0s 14ms/step - loss: 3.4890 - accuracy: 0.0877\n",
            "Epoch 19/150\n",
            "2/2 [==============================] - 0s 10ms/step - loss: 3.4726 - accuracy: 0.0877\n",
            "Epoch 20/150\n",
            "2/2 [==============================] - 0s 12ms/step - loss: 3.4577 - accuracy: 0.0877\n",
            "Epoch 21/150\n",
            "2/2 [==============================] - 0s 10ms/step - loss: 3.4390 - accuracy: 0.0877\n",
            "Epoch 22/150\n",
            "2/2 [==============================] - 0s 10ms/step - loss: 3.4201 - accuracy: 0.0702\n",
            "Epoch 23/150\n",
            "2/2 [==============================] - 0s 11ms/step - loss: 3.4018 - accuracy: 0.0702\n",
            "Epoch 24/150\n",
            "2/2 [==============================] - 0s 10ms/step - loss: 3.3859 - accuracy: 0.0702\n",
            "Epoch 25/150\n",
            "2/2 [==============================] - 0s 10ms/step - loss: 3.3704 - accuracy: 0.0702\n",
            "Epoch 26/150\n",
            "2/2 [==============================] - 0s 10ms/step - loss: 3.3541 - accuracy: 0.0877\n",
            "Epoch 27/150\n",
            "2/2 [==============================] - 0s 13ms/step - loss: 3.3406 - accuracy: 0.0877\n",
            "Epoch 28/150\n",
            "2/2 [==============================] - 0s 9ms/step - loss: 3.3251 - accuracy: 0.0877\n",
            "Epoch 29/150\n",
            "2/2 [==============================] - 0s 10ms/step - loss: 3.3087 - accuracy: 0.0877\n",
            "Epoch 30/150\n",
            "2/2 [==============================] - 0s 10ms/step - loss: 3.2922 - accuracy: 0.0877\n",
            "Epoch 31/150\n",
            "2/2 [==============================] - 0s 10ms/step - loss: 3.2756 - accuracy: 0.0877\n",
            "Epoch 32/150\n",
            "2/2 [==============================] - 0s 11ms/step - loss: 3.2567 - accuracy: 0.0877\n",
            "Epoch 33/150\n",
            "2/2 [==============================] - 0s 11ms/step - loss: 3.2405 - accuracy: 0.0877\n",
            "Epoch 34/150\n",
            "2/2 [==============================] - 0s 10ms/step - loss: 3.2231 - accuracy: 0.0877\n",
            "Epoch 35/150\n",
            "2/2 [==============================] - 0s 10ms/step - loss: 3.2033 - accuracy: 0.0877\n",
            "Epoch 36/150\n",
            "2/2 [==============================] - 0s 10ms/step - loss: 3.1855 - accuracy: 0.0877\n",
            "Epoch 37/150\n",
            "2/2 [==============================] - 0s 10ms/step - loss: 3.1639 - accuracy: 0.0877\n",
            "Epoch 38/150\n",
            "2/2 [==============================] - 0s 10ms/step - loss: 3.1431 - accuracy: 0.1404\n",
            "Epoch 39/150\n",
            "2/2 [==============================] - 0s 10ms/step - loss: 3.1212 - accuracy: 0.1404\n",
            "Epoch 40/150\n",
            "2/2 [==============================] - 0s 10ms/step - loss: 3.0968 - accuracy: 0.1579\n",
            "Epoch 41/150\n",
            "2/2 [==============================] - 0s 9ms/step - loss: 3.0703 - accuracy: 0.1579\n",
            "Epoch 42/150\n",
            "2/2 [==============================] - 0s 10ms/step - loss: 3.0442 - accuracy: 0.1579\n",
            "Epoch 43/150\n",
            "2/2 [==============================] - 0s 13ms/step - loss: 3.0161 - accuracy: 0.1579\n",
            "Epoch 44/150\n",
            "2/2 [==============================] - 0s 9ms/step - loss: 2.9849 - accuracy: 0.1579\n",
            "Epoch 45/150\n",
            "2/2 [==============================] - 0s 9ms/step - loss: 2.9517 - accuracy: 0.1930\n",
            "Epoch 46/150\n",
            "2/2 [==============================] - 0s 9ms/step - loss: 2.9165 - accuracy: 0.2281\n",
            "Epoch 47/150\n",
            "2/2 [==============================] - 0s 10ms/step - loss: 2.8815 - accuracy: 0.2281\n",
            "Epoch 48/150\n",
            "2/2 [==============================] - 0s 9ms/step - loss: 2.8437 - accuracy: 0.2281\n",
            "Epoch 49/150\n",
            "2/2 [==============================] - 0s 10ms/step - loss: 2.8043 - accuracy: 0.2281\n",
            "Epoch 50/150\n",
            "2/2 [==============================] - 0s 9ms/step - loss: 2.7636 - accuracy: 0.2456\n",
            "Epoch 51/150\n",
            "2/2 [==============================] - 0s 10ms/step - loss: 2.7197 - accuracy: 0.2105\n",
            "Epoch 52/150\n",
            "2/2 [==============================] - 0s 94ms/step - loss: 2.6768 - accuracy: 0.2105\n",
            "Epoch 53/150\n",
            "2/2 [==============================] - 0s 10ms/step - loss: 2.6309 - accuracy: 0.2105\n",
            "Epoch 54/150\n",
            "2/2 [==============================] - 0s 10ms/step - loss: 2.5865 - accuracy: 0.2456\n",
            "Epoch 55/150\n",
            "2/2 [==============================] - 0s 10ms/step - loss: 2.5398 - accuracy: 0.2456\n",
            "Epoch 56/150\n",
            "2/2 [==============================] - 0s 11ms/step - loss: 2.4938 - accuracy: 0.2456\n",
            "Epoch 57/150\n",
            "2/2 [==============================] - 0s 10ms/step - loss: 2.4464 - accuracy: 0.2632\n",
            "Epoch 58/150\n",
            "2/2 [==============================] - 0s 14ms/step - loss: 2.4027 - accuracy: 0.2632\n",
            "Epoch 59/150\n",
            "2/2 [==============================] - 0s 11ms/step - loss: 2.3568 - accuracy: 0.2632\n",
            "Epoch 60/150\n",
            "2/2 [==============================] - 0s 12ms/step - loss: 2.3095 - accuracy: 0.2982\n",
            "Epoch 61/150\n",
            "2/2 [==============================] - 0s 15ms/step - loss: 2.2638 - accuracy: 0.3333\n",
            "Epoch 62/150\n",
            "2/2 [==============================] - 0s 13ms/step - loss: 2.2135 - accuracy: 0.3333\n",
            "Epoch 63/150\n",
            "2/2 [==============================] - 0s 16ms/step - loss: 2.1666 - accuracy: 0.3509\n",
            "Epoch 64/150\n",
            "2/2 [==============================] - 0s 16ms/step - loss: 2.1194 - accuracy: 0.4211\n",
            "Epoch 65/150\n",
            "2/2 [==============================] - 0s 14ms/step - loss: 2.0718 - accuracy: 0.4386\n",
            "Epoch 66/150\n",
            "2/2 [==============================] - 0s 14ms/step - loss: 2.0277 - accuracy: 0.4737\n",
            "Epoch 67/150\n",
            "2/2 [==============================] - 0s 12ms/step - loss: 1.9836 - accuracy: 0.5614\n",
            "Epoch 68/150\n",
            "2/2 [==============================] - 0s 12ms/step - loss: 1.9368 - accuracy: 0.5965\n",
            "Epoch 69/150\n",
            "2/2 [==============================] - 0s 14ms/step - loss: 1.8954 - accuracy: 0.5965\n",
            "Epoch 70/150\n",
            "2/2 [==============================] - 0s 12ms/step - loss: 1.8529 - accuracy: 0.6316\n",
            "Epoch 71/150\n",
            "2/2 [==============================] - 0s 14ms/step - loss: 1.8138 - accuracy: 0.6316\n",
            "Epoch 72/150\n",
            "2/2 [==============================] - 0s 13ms/step - loss: 1.7703 - accuracy: 0.6491\n",
            "Epoch 73/150\n",
            "2/2 [==============================] - 0s 13ms/step - loss: 1.7305 - accuracy: 0.6842\n",
            "Epoch 74/150\n",
            "2/2 [==============================] - 0s 237ms/step - loss: 1.6919 - accuracy: 0.6842\n",
            "Epoch 75/150\n",
            "2/2 [==============================] - 0s 26ms/step - loss: 1.6558 - accuracy: 0.6842\n",
            "Epoch 76/150\n",
            "2/2 [==============================] - 0s 15ms/step - loss: 1.6170 - accuracy: 0.6842\n",
            "Epoch 77/150\n",
            "2/2 [==============================] - 0s 13ms/step - loss: 1.5800 - accuracy: 0.6842\n",
            "Epoch 78/150\n",
            "2/2 [==============================] - 0s 14ms/step - loss: 1.5434 - accuracy: 0.6842\n",
            "Epoch 79/150\n",
            "2/2 [==============================] - 0s 18ms/step - loss: 1.5105 - accuracy: 0.7018\n",
            "Epoch 80/150\n",
            "2/2 [==============================] - 0s 18ms/step - loss: 1.4711 - accuracy: 0.7018\n",
            "Epoch 81/150\n",
            "2/2 [==============================] - 0s 14ms/step - loss: 1.4351 - accuracy: 0.7018\n",
            "Epoch 82/150\n",
            "2/2 [==============================] - 0s 13ms/step - loss: 1.3986 - accuracy: 0.7368\n",
            "Epoch 83/150\n",
            "2/2 [==============================] - 0s 14ms/step - loss: 1.3655 - accuracy: 0.7368\n",
            "Epoch 84/150\n",
            "2/2 [==============================] - 0s 13ms/step - loss: 1.3358 - accuracy: 0.7544\n",
            "Epoch 85/150\n",
            "2/2 [==============================] - 0s 17ms/step - loss: 1.3028 - accuracy: 0.7544\n",
            "Epoch 86/150\n",
            "2/2 [==============================] - 0s 16ms/step - loss: 1.2823 - accuracy: 0.8070\n",
            "Epoch 87/150\n",
            "2/2 [==============================] - 0s 13ms/step - loss: 1.2475 - accuracy: 0.8070\n",
            "Epoch 88/150\n",
            "2/2 [==============================] - 0s 13ms/step - loss: 1.2235 - accuracy: 0.8070\n",
            "Epoch 89/150\n",
            "2/2 [==============================] - 0s 12ms/step - loss: 1.1953 - accuracy: 0.8070\n",
            "Epoch 90/150\n",
            "2/2 [==============================] - 0s 12ms/step - loss: 1.1692 - accuracy: 0.8070\n",
            "Epoch 91/150\n",
            "2/2 [==============================] - 0s 13ms/step - loss: 1.1472 - accuracy: 0.8070\n",
            "Epoch 92/150\n",
            "2/2 [==============================] - 0s 12ms/step - loss: 1.1178 - accuracy: 0.8421\n",
            "Epoch 93/150\n",
            "2/2 [==============================] - 0s 16ms/step - loss: 1.0955 - accuracy: 0.8772\n",
            "Epoch 94/150\n",
            "2/2 [==============================] - 0s 15ms/step - loss: 1.0727 - accuracy: 0.8772\n",
            "Epoch 95/150\n",
            "2/2 [==============================] - 0s 15ms/step - loss: 1.0498 - accuracy: 0.8772\n",
            "Epoch 96/150\n",
            "2/2 [==============================] - 0s 12ms/step - loss: 1.0287 - accuracy: 0.8772\n",
            "Epoch 97/150\n",
            "2/2 [==============================] - 0s 12ms/step - loss: 1.0076 - accuracy: 0.8772\n",
            "Epoch 98/150\n",
            "2/2 [==============================] - 0s 12ms/step - loss: 0.9877 - accuracy: 0.9298\n",
            "Epoch 99/150\n",
            "2/2 [==============================] - 0s 15ms/step - loss: 0.9680 - accuracy: 0.9298\n",
            "Epoch 100/150\n",
            "2/2 [==============================] - 0s 15ms/step - loss: 0.9479 - accuracy: 0.9123\n",
            "Epoch 101/150\n",
            "2/2 [==============================] - 0s 12ms/step - loss: 0.9294 - accuracy: 0.9474\n",
            "Epoch 102/150\n",
            "2/2 [==============================] - 0s 12ms/step - loss: 0.9112 - accuracy: 0.9474\n",
            "Epoch 103/150\n",
            "2/2 [==============================] - 0s 14ms/step - loss: 0.8921 - accuracy: 0.9474\n",
            "Epoch 104/150\n",
            "2/2 [==============================] - 0s 14ms/step - loss: 0.8743 - accuracy: 0.9474\n",
            "Epoch 105/150\n",
            "2/2 [==============================] - 0s 147ms/step - loss: 0.8592 - accuracy: 0.9298\n",
            "Epoch 106/150\n",
            "2/2 [==============================] - 0s 13ms/step - loss: 0.8429 - accuracy: 0.9298\n",
            "Epoch 107/150\n",
            "2/2 [==============================] - 0s 13ms/step - loss: 0.8228 - accuracy: 0.9474\n",
            "Epoch 108/150\n",
            "2/2 [==============================] - 0s 13ms/step - loss: 0.8120 - accuracy: 0.9474\n",
            "Epoch 109/150\n",
            "2/2 [==============================] - 0s 12ms/step - loss: 0.7968 - accuracy: 0.9474\n",
            "Epoch 110/150\n",
            "2/2 [==============================] - 0s 11ms/step - loss: 0.7782 - accuracy: 0.9474\n",
            "Epoch 111/150\n",
            "2/2 [==============================] - 0s 12ms/step - loss: 0.7655 - accuracy: 0.9474\n",
            "Epoch 112/150\n",
            "2/2 [==============================] - 0s 12ms/step - loss: 0.7503 - accuracy: 0.9474\n",
            "Epoch 113/150\n",
            "2/2 [==============================] - 0s 12ms/step - loss: 0.7341 - accuracy: 0.9474\n",
            "Epoch 114/150\n",
            "2/2 [==============================] - 0s 13ms/step - loss: 0.7211 - accuracy: 0.9474\n",
            "Epoch 115/150\n",
            "2/2 [==============================] - 0s 12ms/step - loss: 0.7087 - accuracy: 0.9474\n",
            "Epoch 116/150\n",
            "2/2 [==============================] - 0s 14ms/step - loss: 0.6960 - accuracy: 0.9474\n",
            "Epoch 117/150\n",
            "2/2 [==============================] - 0s 12ms/step - loss: 0.6808 - accuracy: 0.9474\n",
            "Epoch 118/150\n",
            "2/2 [==============================] - 0s 11ms/step - loss: 0.6704 - accuracy: 0.9474\n",
            "Epoch 119/150\n",
            "2/2 [==============================] - 0s 11ms/step - loss: 0.6587 - accuracy: 0.9474\n",
            "Epoch 120/150\n",
            "2/2 [==============================] - 0s 11ms/step - loss: 0.6449 - accuracy: 0.9474\n",
            "Epoch 121/150\n",
            "2/2 [==============================] - 0s 11ms/step - loss: 0.6334 - accuracy: 0.9474\n",
            "Epoch 122/150\n",
            "2/2 [==============================] - 0s 12ms/step - loss: 0.6227 - accuracy: 0.9474\n",
            "Epoch 123/150\n",
            "2/2 [==============================] - 0s 12ms/step - loss: 0.6111 - accuracy: 0.9649\n",
            "Epoch 124/150\n",
            "2/2 [==============================] - 0s 13ms/step - loss: 0.6011 - accuracy: 0.9649\n",
            "Epoch 125/150\n",
            "2/2 [==============================] - 0s 12ms/step - loss: 0.5900 - accuracy: 0.9649\n",
            "Epoch 126/150\n",
            "2/2 [==============================] - 0s 13ms/step - loss: 0.5802 - accuracy: 0.9474\n",
            "Epoch 127/150\n",
            "2/2 [==============================] - 0s 12ms/step - loss: 0.5710 - accuracy: 0.9649\n",
            "Epoch 128/150\n",
            "2/2 [==============================] - 0s 12ms/step - loss: 0.5598 - accuracy: 0.9825\n",
            "Epoch 129/150\n",
            "2/2 [==============================] - 0s 11ms/step - loss: 0.5516 - accuracy: 0.9825\n",
            "Epoch 130/150\n",
            "2/2 [==============================] - 0s 11ms/step - loss: 0.5413 - accuracy: 0.9825\n",
            "Epoch 131/150\n",
            "2/2 [==============================] - 0s 12ms/step - loss: 0.5328 - accuracy: 0.9825\n",
            "Epoch 132/150\n",
            "2/2 [==============================] - 0s 13ms/step - loss: 0.5253 - accuracy: 0.9825\n",
            "Epoch 133/150\n",
            "2/2 [==============================] - 0s 14ms/step - loss: 0.5136 - accuracy: 0.9825\n",
            "Epoch 134/150\n",
            "2/2 [==============================] - 0s 13ms/step - loss: 0.5031 - accuracy: 0.9825\n",
            "Epoch 135/150\n",
            "2/2 [==============================] - 0s 13ms/step - loss: 0.4940 - accuracy: 0.9825\n",
            "Epoch 136/150\n",
            "2/2 [==============================] - 0s 12ms/step - loss: 0.4862 - accuracy: 0.9825\n",
            "Epoch 137/150\n",
            "2/2 [==============================] - 0s 12ms/step - loss: 0.4770 - accuracy: 0.9825\n",
            "Epoch 138/150\n",
            "2/2 [==============================] - 0s 12ms/step - loss: 0.4689 - accuracy: 0.9825\n",
            "Epoch 139/150\n",
            "2/2 [==============================] - 0s 14ms/step - loss: 0.4613 - accuracy: 0.9825\n",
            "Epoch 140/150\n",
            "2/2 [==============================] - 0s 13ms/step - loss: 0.4531 - accuracy: 0.9825\n",
            "Epoch 141/150\n",
            "2/2 [==============================] - 0s 12ms/step - loss: 0.4453 - accuracy: 0.9825\n",
            "Epoch 142/150\n",
            "2/2 [==============================] - 0s 13ms/step - loss: 0.4370 - accuracy: 0.9825\n",
            "Epoch 143/150\n",
            "2/2 [==============================] - 0s 12ms/step - loss: 0.4287 - accuracy: 0.9825\n",
            "Epoch 144/150\n",
            "2/2 [==============================] - 0s 12ms/step - loss: 0.4206 - accuracy: 0.9825\n",
            "Epoch 145/150\n",
            "2/2 [==============================] - 0s 12ms/step - loss: 0.4134 - accuracy: 0.9825\n",
            "Epoch 146/150\n",
            "2/2 [==============================] - 0s 12ms/step - loss: 0.4061 - accuracy: 0.9825\n",
            "Epoch 147/150\n",
            "2/2 [==============================] - 0s 12ms/step - loss: 0.3999 - accuracy: 0.9825\n",
            "Epoch 148/150\n",
            "2/2 [==============================] - 0s 12ms/step - loss: 0.3924 - accuracy: 0.9825\n",
            "Epoch 149/150\n",
            "2/2 [==============================] - 0s 12ms/step - loss: 0.3860 - accuracy: 0.9825\n",
            "Epoch 150/150\n",
            "2/2 [==============================] - 0s 12ms/step - loss: 0.3791 - accuracy: 0.9825\n"
          ]
        },
        {
          "output_type": "execute_result",
          "data": {
            "text/plain": [
              "<keras.src.callbacks.History at 0x7be3c43baa70>"
            ]
          },
          "metadata": {},
          "execution_count": 107
        }
      ]
    },
    {
      "cell_type": "code",
      "source": [
        "seed_text = 'mungkinkah'\n",
        "next_words = 10\n",
        "for i in range(next_words):\n",
        "  token_list = tokenizer.texts_to_sequences([seed_text])[0]\n",
        "  token_list = pad_sequences([token_list],maxlen=max_sequence_len -1)\n",
        "  predicted = model.predict(token_list)\n",
        "  predicted = np.argmax(predicted,axis=-1)[0]\n",
        "  output_word = tokenizer.index_word[predicted]\n",
        "  seed_text += \" \" + output_word\n",
        "print(seed_text)"
      ],
      "metadata": {
        "colab": {
          "base_uri": "https://localhost:8080/"
        },
        "id": "JoKUxHwMRRlQ",
        "outputId": "3f8c5eb6-f59c-40a6-fe2a-da4b0603e663"
      },
      "execution_count": null,
      "outputs": [
        {
          "output_type": "stream",
          "name": "stdout",
          "text": [
            "1/1 [==============================] - 0s 19ms/step\n",
            "1/1 [==============================] - 0s 18ms/step\n",
            "1/1 [==============================] - 0s 19ms/step\n",
            "1/1 [==============================] - 0s 17ms/step\n",
            "1/1 [==============================] - 0s 20ms/step\n",
            "1/1 [==============================] - 0s 17ms/step\n",
            "1/1 [==============================] - 0s 19ms/step\n",
            "1/1 [==============================] - 0s 19ms/step\n",
            "1/1 [==============================] - 0s 19ms/step\n",
            "1/1 [==============================] - 0s 19ms/step\n",
            "mungkinkah kita ada kesempatan kesempatan kesempatan kesempatan kata berdua berdua di\n"
          ]
        }
      ]
    }
  ]
}